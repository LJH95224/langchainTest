{
 "cells": [
  {
   "cell_type": "markdown",
   "metadata": {},
   "source": [
    "读取world文件"
   ]
  },
  {
   "cell_type": "code",
   "execution_count": 1,
   "metadata": {},
   "outputs": [
    {
     "name": "stdout",
     "output_type": "stream",
     "text": [
      "Error loading PDF file: File path C:/Users/HP/Downloads/chatDocHelper.py is not a valid file or url\n"
     ]
    }
   ],
   "source": [
    "from langchain_community.document_loaders import PyPDFLoader\n",
    "\n",
    "class ChatDoc:\n",
    "    def getFile(self):\n",
    "        try:\n",
    "            loader = PyPDFLoader(\"C:/Users/HP/Downloads/chatDocHelper.py\")\n",
    "            text = loader.load()\n",
    "            return text\n",
    "        except Exception as e:\n",
    "            print(f\"Error loading PDF file: {e}\")\n",
    "            return None\n",
    "\n",
    "chat_doc = ChatDoc()\n",
    "chat_doc.getFile()"
   ]
  }
 ],
 "metadata": {
  "kernelspec": {
   "display_name": "Python 3",
   "language": "python",
   "name": "python3"
  },
  "language_info": {
   "codemirror_mode": {
    "name": "ipython",
    "version": 3
   },
   "file_extension": ".py",
   "mimetype": "text/x-python",
   "name": "python",
   "nbconvert_exporter": "python",
   "pygments_lexer": "ipython3",
   "version": "3.12.9"
  }
 },
 "nbformat": 4,
 "nbformat_minor": 2
}
