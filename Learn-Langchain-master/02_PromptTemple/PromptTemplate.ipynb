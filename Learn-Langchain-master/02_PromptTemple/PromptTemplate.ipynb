{
 "cells": [
  {
   "cell_type": "code",
   "execution_count": 3,
   "metadata": {},
   "outputs": [
    {
     "name": "stdout",
     "output_type": "stream",
     "text": [
      "你是一个起名大师,帮我起1个具有可爱特色的女孩名字\n"
     ]
    }
   ],
   "source": [
    "# 字符串模板\n",
    "from  langchain.prompts import PromptTemplate\n",
    "prompt = PromptTemplate.from_template(\"你是一个{name},帮我起1个具有{county}特色的{sex}名字\")\n",
    "prompts = prompt.format(name=\"起名大师\", county=\"可爱\", sex=\"女孩\")\n",
    "print(prompts)"
   ]
  },
  {
   "cell_type": "code",
   "execution_count": 8,
   "metadata": {},
   "outputs": [
    {
     "name": "stdout",
     "output_type": "stream",
     "text": [
      "messages=[SystemMessage(content='你是一个厉害的人工职能助手', additional_kwargs={}, response_metadata={}), HumanMessage(content='hi', additional_kwargs={}, response_metadata={})]\n"
     ]
    }
   ],
   "source": [
    "from langchain.prompts import ChatPromptTemplate, MessagesPlaceholder, prompt\n",
    "from langchain_core.messages import SystemMessage, HumanMessage, AIMessage\n",
    "\n",
    "prompt_template = ChatPromptTemplate([\n",
    "   (\"system\", \"你是一个厉害的人工职能助手\"),\n",
    "   MessagesPlaceholder(\"msge\"),\n",
    "])\n",
    "\n",
    "result = prompt_template.invoke({\"msge\": [HumanMessage(content=\"hi\")]})\n",
    "print(result)"
   ]
  },
  {
   "cell_type": "code",
   "execution_count": 7,
   "metadata": {},
   "outputs": [
    {
     "name": "stdout",
     "output_type": "stream",
     "text": [
      "messages=[SystemMessage(content='你是一个厉害的人工职能助手', additional_kwargs={}, response_metadata={}), HumanMessage(content='hi', additional_kwargs={}, response_metadata={})]\n"
     ]
    }
   ],
   "source": [
    "# 消息占位符应用\n",
    "\n",
    "from langchain.prompts import ChatPromptTemplate, MessagesPlaceholder, prompt\n",
    "from langchain_core.messages import SystemMessage, HumanMessage, AIMessage\n",
    "\n",
    "prompt_template = ChatPromptTemplate([\n",
    "   (\"system\", \"你是一个厉害的人工职能助手\"),\n",
    "   MessagesPlaceholder(\"msge\"),\n",
    "])\n",
    "\n",
    "result = prompt_template.invoke({\"msge\": [HumanMessage(content=\"hi\")]})\n",
    "print(result)"
   ]
  }
 ],
 "metadata": {
  "kernelspec": {
   "display_name": "script-5k6w3mY7",
   "language": "python",
   "name": "python3"
  },
  "language_info": {
   "codemirror_mode": {
    "name": "ipython",
    "version": 3
   },
   "file_extension": ".py",
   "mimetype": "text/x-python",
   "name": "python",
   "nbconvert_exporter": "python",
   "pygments_lexer": "ipython3",
   "version": "3.12.7"
  }
 },
 "nbformat": 4,
 "nbformat_minor": 2
}
