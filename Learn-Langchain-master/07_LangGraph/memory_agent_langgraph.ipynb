{
 "cells": [
  {
   "cell_type": "markdown",
   "id": "442e2935",
   "metadata": {},
   "source": [
    "# 基于 LangGraph 和 LangChain 的长时记忆聊天 Agent\n",
    "\n",
    "本项目实现一个具有长期记忆功能的聊天机器人，通过结合 LangGraph 的流程控制和 LangChain 的记忆组件，使机器人能够记住对话历史并利用它来提供上下文相关的回复。\n",
    "\n",
    "## 主要功能\n",
    "\n",
    "1. **长期记忆**：使用向量存储持久化对话记忆，超出即时上下文窗口的对话也能被检索\n",
    "2. **记忆摘要**：定期对长对话生成摘要以保存关键信息\n",
    "3. **工具使用**：集成了几个实用工具供 Agent 使用\n",
    "4. **状态管理**：使用 LangGraph 管理对话状态和流程\n",
    "\n",
    "## 实现技术\n",
    "\n",
    "- **LangGraph**：用于构建 Agent 的状态图和流程控制\n",
    "- **LangChain**：提供记忆组件、LLM 接口和工具集成\n",
    "- **Chroma**：用作向量存储的数据库"
   ]
  },
  {
   "cell_type": "markdown",
   "id": "8412f37a",
   "metadata": {},
   "source": [
    "# 带长时记忆的 Agent 聊天机器人\n",
    "\n",
    "使用 LangChain 和 LangGraph 实现一个具有长期记忆能力的聊天机器人 Agent，能够记住之前的对话内容并在新的对话中引用这些信息。"
   ]
  },
  {
   "cell_type": "markdown",
   "id": "a98c1a73",
   "metadata": {},
   "source": [
    "## 安装和导入必要的库\n",
    "\n",
    "首先，我们需要安装并导入 LangChain 和 LangGraph 相关的库。"
   ]
  },
  {
   "cell_type": "code",
   "execution_count": null,
   "id": "cd48eaa1",
   "metadata": {},
   "outputs": [],
   "source": [
    "# 安装必要的库\n",
    "!pip install langchain langchain-openai langgraph langchain-community \n",
    "!pip install chromadb langchain-core"
   ]
  },
  {
   "cell_type": "code",
   "execution_count": null,
   "id": "01fe244e",
   "metadata": {},
   "outputs": [],
   "source": [
    "# 导入必要的库\n",
    "import os\n",
    "from typing import TypedDict, List, Dict, Any, Optional, Annotated\n",
    "from datetime import datetime\n",
    "\n",
    "# LangChain 相关导入\n",
    "from langchain_core.messages import HumanMessage, AIMessage, SystemMessage, BaseMessage\n",
    "from langchain_core.prompts import ChatPromptTemplate, MessagesPlaceholder\n",
    "from langchain_openai import ChatOpenAI\n",
    "from langchain.memory import ConversationBufferMemory\n",
    "from langchain_community.vectorstores import Chroma\n",
    "from langchain_openai import OpenAIEmbeddings\n",
    "from langchain_core.runnables import RunnablePassthrough\n",
    "from langchain_core.output_parsers import StrOutputParser\n",
    "\n",
    "# LangGraph 相关导入\n",
    "from langgraph.graph import StateGraph, END\n",
    "from langgraph.prebuilt import MemoryContainer"
   ]
  },
  {
   "cell_type": "markdown",
   "id": "2a60d5db",
   "metadata": {},
   "source": [
    "## 初始化 LangChain 和 LangGraph\n",
    "\n",
    "配置 LangChain API 密钥并设置模型参数。"
   ]
  },
  {
   "cell_type": "code",
   "execution_count": null,
   "id": "5f033234",
   "metadata": {},
   "outputs": [],
   "source": [
    "# 配置 OpenAI API 密钥\n",
    "os.environ[\"OPENAI_API_KEY\"] = \"your_openai_api_key\"  # 请替换为你的 API 密钥\n",
    "\n",
    "# 初始化 ChatOpenAI 模型\n",
    "llm = ChatOpenAI(model=\"gpt-3.5-turbo\", temperature=0.7)\n",
    "\n",
    "# 创建系统提示信息\n",
    "system_prompt = \"\"\"你是一个友好的助手，拥有长期记忆能力。你能记住用户之前告诉你的信息，\n",
    "并在回答时引用这些信息。当用户询问你之前提到过的信息时，请尝试从你的长期记忆中检索相关内容。\n",
    "请保持礼貌、友好的态度，并尽可能提供有帮助的回答。\"\"\""
   ]
  },
  {
   "cell_type": "markdown",
   "id": "27e10b36",
   "metadata": {},
   "source": [
    "## 定义长时记忆存储\n",
    "\n",
    "我们将使用向量数据库来实现长时记忆功能，这样聊天机器人可以存储和检索之前的对话内容。"
   ]
  },
  {
   "cell_type": "code",
   "execution_count": null,
   "id": "279913f2",
   "metadata": {},
   "outputs": [],
   "source": [
    "# 设置向量存储作为长期记忆\n",
    "embedding_model = OpenAIEmbeddings()\n",
    "vectorstore = Chroma(\n",
    "    collection_name=\"memory_agent_conversations\",\n",
    "    embedding_function=embedding_model,\n",
    "    persist_directory=\"./memory_agent_db\"\n",
    ")\n",
    "\n",
    "# 定义状态类型\n",
    "class AgentState(TypedDict):\n",
    "    messages: List[BaseMessage]  # 当前对话消息历史\n",
    "    long_term_memory: Dict[str, Any]  # 长期记忆存储\n",
    "    current_time: str  # 当前时间，用于记录对话时间"
   ]
  },
  {
   "cell_type": "code",
   "execution_count": null,
   "id": "4fb61483",
   "metadata": {},
   "outputs": [],
   "source": [
    "# 长期记忆检索函数\n",
    "def retrieve_from_memory(query: str, k: int = 3):\n",
    "    \"\"\"从长期记忆中检索相关内容\"\"\"\n",
    "    results = vectorstore.similarity_search(query, k=k)\n",
    "    return [doc.page_content for doc in results]\n",
    "\n",
    "# 存储到长期记忆的函数\n",
    "def store_in_memory(text: str, metadata: Dict[str, Any] = None):\n",
    "    \"\"\"将文本存储到长期记忆中\"\"\"\n",
    "    metadata = metadata or {}\n",
    "    metadata[\"timestamp\"] = datetime.now().isoformat()\n",
    "    vectorstore.add_texts([text], metadatas=[metadata])"
   ]
  },
  {
   "cell_type": "markdown",
   "id": "341a7339",
   "metadata": {},
   "source": [
    "## 创建聊天机器人 Agent\n",
    "\n",
    "现在，我们将使用 LangGraph 来创建一个支持长时记忆的聊天机器人 Agent。流程包括：接收用户输入、检索相关记忆、处理对话、生成回复并更新记忆。"
   ]
  },
  {
   "cell_type": "code",
   "execution_count": null,
   "id": "a34d3ff8",
   "metadata": {},
   "outputs": [],
   "source": [
    "# 初始化 Agent 节点函数\n",
    "\n",
    "def initialize_state() -> AgentState:\n",
    "    \"\"\"初始化代理状态\"\"\"\n",
    "    return {\n",
    "        \"messages\": [SystemMessage(content=system_prompt)],\n",
    "        \"long_term_memory\": {},\n",
    "        \"current_time\": datetime.now().isoformat()\n",
    "    }\n",
    "\n",
    "def receive_input(state: AgentState, input_message: str) -> AgentState:\n",
    "    \"\"\"接收用户输入并更新状态\"\"\"\n",
    "    state[\"messages\"].append(HumanMessage(content=input_message))\n",
    "    state[\"current_time\"] = datetime.now().isoformat()\n",
    "    return state\n",
    "\n",
    "def retrieve_memory(state: AgentState) -> AgentState:\n",
    "    \"\"\"检索相关记忆\"\"\"\n",
    "    if len(state[\"messages\"]) > 1:  # 确保有用户消息\n",
    "        user_message = state[\"messages\"][-1].content\n",
    "        retrieved_memories = retrieve_from_memory(user_message)\n",
    "        \n",
    "        if retrieved_memories:\n",
    "            memory_prompt = \"\\n\\n相关历史记忆:\\n\" + \"\\n---\\n\".join(retrieved_memories)\n",
    "            state[\"long_term_memory\"][\"retrieved\"] = memory_prompt\n",
    "    \n",
    "    return state\n",
    "\n",
    "def generate_response(state: AgentState) -> AgentState:\n",
    "    \"\"\"生成助手回复\"\"\"\n",
    "    # 准备提示\n",
    "    messages = state[\"messages\"].copy()\n",
    "    \n",
    "    # 如果有检索到的记忆，添加到提示中\n",
    "    if \"retrieved\" in state[\"long_term_memory\"]:\n",
    "        context_message = SystemMessage(\n",
    "            content=f\"以下是用户之前提到的相关信息，可以帮助你回答:\\n{state['long_term_memory']['retrieved']}\"\n",
    "        )\n",
    "        messages.insert(1, context_message)\n",
    "    \n",
    "    # 使用 LLM 生成回复\n",
    "    response = llm.invoke(messages)\n",
    "    state[\"messages\"].append(response)\n",
    "    \n",
    "    # 保存对话到长期记忆\n",
    "    dialogue_to_store = f\"用户: {state['messages'][-2].content}\\n助手: {response.content}\"\n",
    "    store_in_memory(dialogue_to_store, {\"time\": state[\"current_time\"]})\n",
    "    \n",
    "    return state"
   ]
  },
  {
   "cell_type": "code",
   "execution_count": null,
   "id": "5d3bd706",
   "metadata": {},
   "outputs": [],
   "source": [
    "# 创建 LangGraph 工作流\n",
    "workflow = StateGraph(AgentState)\n",
    "\n",
    "# 添加节点\n",
    "workflow.add_node(\"receive_input\", receive_input)\n",
    "workflow.add_node(\"retrieve_memory\", retrieve_memory)\n",
    "workflow.add_node(\"generate_response\", generate_response)\n",
    "\n",
    "# 定义边和工作流\n",
    "workflow.set_entry_point(\"receive_input\")\n",
    "workflow.add_edge(\"receive_input\", \"retrieve_memory\")\n",
    "workflow.add_edge(\"retrieve_memory\", \"generate_response\")\n",
    "workflow.add_edge(\"generate_response\", END)\n",
    "\n",
    "# 编译工作流\n",
    "memory_agent = workflow.compile()"
   ]
  },
  {
   "cell_type": "markdown",
   "id": "04a12392",
   "metadata": {},
   "source": [
    "## 与聊天机器人交互\n",
    "\n",
    "现在我们可以与聊天机器人进行对话，并测试其长时记忆功能。我们将进行多轮对话，并检查机器人是否能记住之前的信息。"
   ]
  },
  {
   "cell_type": "code",
   "execution_count": null,
   "id": "b787084b",
   "metadata": {},
   "outputs": [],
   "source": [
    "# 初始化聊天状态\n",
    "chat_state = initialize_state()\n",
    "\n",
    "# 与聊天机器人交互的函数\n",
    "def chat_with_agent(message: str) -> str:\n",
    "    global chat_state\n",
    "    \n",
    "    # 运行工作流\n",
    "    result = memory_agent.invoke({\n",
    "        \"state\": chat_state,\n",
    "        \"input_message\": message\n",
    "    })\n",
    "    \n",
    "    # 更新状态\n",
    "    chat_state = result\n",
    "    \n",
    "    # 返回最新的助手回复\n",
    "    return chat_state[\"messages\"][-1].content\n",
    "\n",
    "# 测试对话\n",
    "print(\"助手: 你好！我是一个具有长期记忆功能的助手。请问有什么我可以帮助你的？\")\n",
    "\n",
    "# 第一轮对话\n",
    "user_input = \"我叫小明，我喜欢读科幻小说\"\n",
    "print(f\"用户: {user_input}\")\n",
    "response = chat_with_agent(user_input)\n",
    "print(f\"助手: {response}\")\n",
    "\n",
    "# 第二轮对话\n",
    "user_input = \"我还喜欢打篮球，每周会打三次球\"\n",
    "print(f\"用户: {user_input}\")\n",
    "response = chat_with_agent(user_input)\n",
    "print(f\"助手: {response}\")\n",
    "\n",
    "# 第三轮对话，测试长期记忆\n",
    "user_input = \"你还记得我的名字吗？\"\n",
    "print(f\"用户: {user_input}\")\n",
    "response = chat_with_agent(user_input)\n",
    "print(f\"助手: {response}\")\n",
    "\n",
    "# 第四轮对话，测试长期记忆中的爱好信息\n",
    "user_input = \"我都有哪些爱好？\"\n",
    "print(f\"用户: {user_input}\")\n",
    "response = chat_with_agent(user_input)\n",
    "print(f\"助手: {response}\")"
   ]
  },
  {
   "cell_type": "markdown",
   "id": "12310d93",
   "metadata": {},
   "source": [
    "## 功能扩展\n",
    "\n",
    "我们可以进一步扩展聊天机器人的功能，例如添加记忆摘要、情感分析或用户偏好学习等。以下是一些可能的扩展方向：\n",
    "\n",
    "1. **记忆摘要**: 定期总结过去的对话，创建更紧凑的记忆表示\n",
    "2. **情感分析**: 分析用户情绪并相应调整回复风格\n",
    "3. **用户偏好学习**: 识别并记住用户的偏好、兴趣和习惯\n",
    "4. **对话主题追踪**: 识别对话主题的变化并据此检索相关记忆"
   ]
  },
  {
   "cell_type": "code",
   "execution_count": null,
   "id": "019787d4",
   "metadata": {},
   "outputs": [],
   "source": [
    "# 简单的记忆摘要功能示例\n",
    "\n",
    "def summarize_conversation(messages: List[BaseMessage]) -> str:\n",
    "    \"\"\"总结对话内容\"\"\"\n",
    "    # 提取用户和助手的消息\n",
    "    conversation_text = \"\\n\".join([\n",
    "        f\"{'用户' if isinstance(msg, HumanMessage) else '助手'}: {msg.content}\"\n",
    "        for msg in messages if not isinstance(msg, SystemMessage)\n",
    "    ])\n",
    "    \n",
    "    # 创建摘要提示\n",
    "    summary_prompt = ChatPromptTemplate.from_messages([\n",
    "        SystemMessage(content=\"你是一个对话摘要专家。请总结以下对话中的关键信息，特别是用户的个人信息、偏好和重要细节。\"),\n",
    "        HumanMessage(content=f\"请总结以下对话:\\n\\n{conversation_text}\")\n",
    "    ])\n",
    "    \n",
    "    # 生成摘要\n",
    "    chain = summary_prompt | llm | StrOutputParser()\n",
    "    summary = chain.invoke({})\n",
    "    \n",
    "    return summary\n",
    "\n",
    "# 测试总结功能\n",
    "if len(chat_state[\"messages\"]) > 2:  # 确保有足够的消息可以总结\n",
    "    summary = summarize_conversation(chat_state[\"messages\"])\n",
    "    print(\"\\n对话摘要:\")\n",
    "    print(summary)\n",
    "    \n",
    "    # 将摘要存储到长期记忆\n",
    "    store_in_memory(f\"对话摘要: {summary}\", {\"type\": \"summary\", \"time\": datetime.now().isoformat()})"
   ]
  },
  {
   "cell_type": "markdown",
   "id": "a2dc550d",
   "metadata": {},
   "source": [
    "## 总结\n",
    "\n",
    "在这个笔记本中，我们成功实现了一个具有长期记忆功能的聊天机器人 Agent，使用 LangChain 和 LangGraph 作为核心框架。关键组件包括：\n",
    "\n",
    "1. **向量存储**: 用于保存和检索对话历史\n",
    "2. **LangGraph 工作流**: 处理用户输入、检索记忆和生成回复\n",
    "3. **记忆检索机制**: 基于相似度搜索从长期记忆中检索相关内容\n",
    "4. **对话管理**: 维护对话状态并更新长期记忆\n",
    "\n",
    "这个聊天机器人能够记住用户之前提供的信息，并在后续对话中引用这些信息，提供更加个性化和连贯的交互体验。通过扩展，还可以添加更多功能，如记忆摘要、情感分析等，进一步提升用户体验。"
   ]
  }
 ],
 "metadata": {
  "language_info": {
   "name": "python"
  }
 },
 "nbformat": 4,
 "nbformat_minor": 5
}
