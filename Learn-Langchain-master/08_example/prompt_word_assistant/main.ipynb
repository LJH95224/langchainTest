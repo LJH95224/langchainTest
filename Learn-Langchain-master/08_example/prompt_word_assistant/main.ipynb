{
 "cells": [
  {
   "cell_type": "markdown",
   "id": "b4074015",
   "metadata": {},
   "source": [
    "### 提示词助手\n",
    "******\n",
    "- 根据用户输入\n",
    "- 生成提示词并优化"
   ]
  }
 ],
 "metadata": {
  "kernelspec": {
   "display_name": "Python 3",
   "language": "python",
   "name": "python3"
  },
  "language_info": {
   "codemirror_mode": {
    "name": "ipython",
    "version": 3
   },
   "file_extension": ".py",
   "mimetype": "text/x-python",
   "name": "python",
   "nbconvert_exporter": "python",
   "pygments_lexer": "ipython3",
   "version": "3.12.9"
  }
 },
 "nbformat": 4,
 "nbformat_minor": 5
}
